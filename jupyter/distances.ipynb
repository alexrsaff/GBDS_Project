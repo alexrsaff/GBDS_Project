{
 "cells": [
  {
   "cell_type": "code",
   "execution_count": 1,
   "metadata": {},
   "outputs": [],
   "source": [
    "import pandas as pd\n",
    "from geopy.distance import distance"
   ]
  },
  {
   "cell_type": "code",
   "execution_count": 2,
   "metadata": {},
   "outputs": [
    {
     "name": "stderr",
     "output_type": "stream",
     "text": [
      "/tmp/ipykernel_82193/2419724043.py:1: DtypeWarning: Columns (7) have mixed types. Specify dtype option on import or set low_memory=False.\n",
      "  raw_data = pd.read_csv('../raw_data/202106-citibike-tripdata.csv')\n"
     ]
    }
   ],
   "source": [
    "raw_data = pd.read_csv('../raw_data/202106-citibike-tripdata.csv')"
   ]
  },
  {
   "cell_type": "code",
   "execution_count": 3,
   "metadata": {},
   "outputs": [
    {
     "data": {
      "text/plain": [
       "ride_id                     object\n",
       "started_at          datetime64[ns]\n",
       "ended_at            datetime64[ns]\n",
       "start_station_id           float64\n",
       "end_station_id             float64\n",
       "start_lat                  float64\n",
       "start_lng                  float64\n",
       "end_lat                    float64\n",
       "end_lng                    float64\n",
       "dtype: object"
      ]
     },
     "execution_count": 3,
     "metadata": {},
     "output_type": "execute_result"
    }
   ],
   "source": [
    "df = raw_data.drop(['rideable_type', 'start_station_name', 'end_station_name', 'member_casual'], axis=1)\n",
    "df['start_station_id'] = pd.to_numeric(df['start_station_id'], errors='coerce')\n",
    "df['end_station_id'] = pd.to_numeric(df['end_station_id'], errors='coerce')\n",
    "df['ended_at'] = pd.to_datetime(df['ended_at'])\n",
    "df['started_at'] = pd.to_datetime(df['started_at'])\n",
    "\n",
    "df.dtypes"
   ]
  },
  {
   "cell_type": "code",
   "execution_count": 4,
   "metadata": {},
   "outputs": [],
   "source": [
    "in_df = df.drop(['started_at', 'start_station_id', 'start_lat', 'start_lng', 'end_lat', 'end_lng'], axis=1)\n",
    "in_df = in_df[(in_df['ended_at'] >= '2021-06-01 00:00:00') & (in_df['ended_at'] <= '2021-06-30 23:59:59')]\n",
    "in_df['station_id'] = df['end_station_id']\n",
    "in_df['latitude'] = df['end_lat']\n",
    "in_df['longitude'] = df['end_lng']\n",
    "in_df = in_df.drop(['ended_at', 'end_station_id', 'ended_at'], axis=1)\n",
    "\n",
    "out_df = df.drop(['ended_at', 'end_station_id','start_lat', 'start_lng', 'end_lat', 'end_lng'], axis=1)\n",
    "out_df = out_df[(out_df['started_at'] >= '2021-06-01 00:00:00') & (out_df['started_at'] <= '2021-06-30 23:59:59')]\n",
    "out_df['station_id'] = df['start_station_id']\n",
    "out_df['latitude'] = df['start_lat']\n",
    "out_df['longitude'] = df['start_lng']\n",
    "out_df = out_df.drop(['started_at', 'start_station_id', 'started_at'], axis=1)\n",
    "\n",
    "station_info = pd.concat([out_df, in_df])\n",
    "station_info = station_info.groupby('station_id').mean().reset_index()"
   ]
  },
  {
   "cell_type": "code",
   "execution_count": 5,
   "metadata": {},
   "outputs": [
    {
     "name": "stdout",
     "output_type": "stream",
     "text": [
      "0.0% complete\n",
      "25.0% complete\n",
      "50.0% complete\n",
      "75.0% complete\n",
      "100.0% complete\n"
     ]
    }
   ],
   "source": [
    "selected_stations = station_info['station_id'].unique()\n",
    "distances  = pd.crosstab(station_info.station_id, station_info.station_id, normalize=True)\n",
    "distances[:] = 0\n",
    "\n",
    "for pos,station_i in enumerate(selected_stations[:-1]):\n",
    "    if pos%368 ==0:\n",
    "        print(str(pos/368*25)+'% complete')\n",
    "    for station_j in selected_stations[pos+1:]:\n",
    "        station_i_meta = station_info[station_info['station_id']==station_i]\n",
    "        station_j_meta = station_info[station_info['station_id']==station_j]\n",
    "        d_ij = distance(\n",
    "            (station_i_meta['latitude'].values[0], station_i_meta['longitude'].values[0]), \n",
    "            (station_j_meta['latitude'].values[0], station_j_meta['longitude'].values[0])).m\n",
    "        distances.at[station_j, station_i] = d_ij\n",
    "        distances.at[station_i, station_j] = d_ij"
   ]
  },
  {
   "cell_type": "code",
   "execution_count": 6,
   "metadata": {},
   "outputs": [
    {
     "name": "stdout",
     "output_type": "stream",
     "text": [
      "Outbound distances length: 1473\n",
      "count    2.169729e+06\n",
      "mean     9.062130e+03\n",
      "std      5.496552e+03\n",
      "min      0.000000e+00\n",
      "25%      4.742322e+03\n",
      "50%      8.032432e+03\n",
      "75%      1.272553e+04\n",
      "max      2.972343e+04\n",
      "dtype: float64\n",
      "None\n",
      "Inbound distances length: 1475\n",
      "count    2.175625e+06\n",
      "mean     9.061921e+03\n",
      "std      5.496697e+03\n",
      "min      0.000000e+00\n",
      "25%      4.741743e+03\n",
      "50%      8.032375e+03\n",
      "75%      1.272620e+04\n",
      "max      2.972343e+04\n",
      "dtype: float64\n",
      "None\n",
      "All distances length: 1475\n",
      "count    2.175625e+06\n",
      "mean     9.061921e+03\n",
      "std      5.496697e+03\n",
      "min      0.000000e+00\n",
      "25%      4.741743e+03\n",
      "50%      8.032375e+03\n",
      "75%      1.272620e+04\n",
      "max      2.972343e+04\n",
      "dtype: float64\n",
      "None\n"
     ]
    }
   ],
   "source": [
    "outbound_stations = pd.read_csv('../processed_data/outbound_stations.csv')\n",
    "outbound_distances = distances[list(outbound_stations.station_id)]\n",
    "outbound_distances = outbound_distances[outbound_distances.index.isin(outbound_stations.station_id)]\n",
    "outbound_distances = outbound_distances.reindex(sorted(outbound_distances.columns), axis=1)\n",
    "outbound_distances = outbound_distances.reindex(sorted(outbound_distances.index), axis=0)\n",
    "outbound_distances.to_csv('../processed_data/outbound_distances.csv')\n",
    "print('Outbound distances length:', len(outbound_distances))\n",
    "print(print(pd.Series(outbound_distances.values.ravel()).describe()))\n",
    "\n",
    "inbound_stations = pd.read_csv('../processed_data/inbound_stations.csv')\n",
    "inbound_distances = distances[list(inbound_stations.station_id)]\n",
    "inbound_distances = inbound_distances[inbound_distances.index.isin(inbound_stations.station_id)]\n",
    "inbound_distances = inbound_distances.reindex(sorted(inbound_distances.columns), axis=1)\n",
    "inbound_distances = inbound_distances.reindex(sorted(inbound_distances.index), axis=0)\n",
    "inbound_distances.to_csv('../processed_data/inbound_distances.csv')\n",
    "print('Inbound distances length:', len(inbound_distances))\n",
    "print(print(pd.Series(inbound_distances.values.ravel()).describe()))\n",
    "\n",
    "stations = pd.read_csv('../processed_data/stations.csv')\n",
    "distances = distances[list(stations.station_id)]\n",
    "distances = distances[distances.index.isin(stations.station_id)]\n",
    "distances = distances.reindex(sorted(distances.columns), axis=1)\n",
    "distances = distances.reindex(sorted(distances.index), axis=0)\n",
    "distances.to_csv('../processed_data/distances.csv')\n",
    "print('All distances length:', len(distances))\n",
    "print(print(pd.Series(distances.values.ravel()).describe()))"
   ]
  }
 ],
 "metadata": {
  "interpreter": {
   "hash": "ff6ecfd5f2ea843e41359741653957982d295db5330b7f75b0cdaebb57a538b2"
  },
  "kernelspec": {
   "display_name": "Python 3.9.7 ('GBDS')",
   "language": "python",
   "name": "python3"
  },
  "language_info": {
   "codemirror_mode": {
    "name": "ipython",
    "version": 3
   },
   "file_extension": ".py",
   "mimetype": "text/x-python",
   "name": "python",
   "nbconvert_exporter": "python",
   "pygments_lexer": "ipython3",
   "version": "3.9.7"
  },
  "orig_nbformat": 4
 },
 "nbformat": 4,
 "nbformat_minor": 2
}
