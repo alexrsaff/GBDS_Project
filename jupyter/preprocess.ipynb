{
 "cells": [
  {
   "cell_type": "markdown",
   "metadata": {},
   "source": [
    "# Imports"
   ]
  },
  {
   "cell_type": "code",
   "execution_count": 1,
   "metadata": {},
   "outputs": [],
   "source": [
    "import pandas as pd"
   ]
  },
  {
   "cell_type": "markdown",
   "metadata": {},
   "source": [
    "# Read CSV"
   ]
  },
  {
   "cell_type": "code",
   "execution_count": 2,
   "metadata": {},
   "outputs": [
    {
     "name": "stderr",
     "output_type": "stream",
     "text": [
      "/tmp/ipykernel_96680/2419724043.py:1: DtypeWarning: Columns (7) have mixed types. Specify dtype option on import or set low_memory=False.\n",
      "  raw_data = pd.read_csv('../raw_data/202106-citibike-tripdata.csv')\n"
     ]
    }
   ],
   "source": [
    "raw_data = pd.read_csv('../raw_data/202106-citibike-tripdata.csv')"
   ]
  },
  {
   "cell_type": "markdown",
   "metadata": {},
   "source": [
    "# Change Types"
   ]
  },
  {
   "cell_type": "code",
   "execution_count": 3,
   "metadata": {},
   "outputs": [
    {
     "data": {
      "text/plain": [
       "ride_id                     object\n",
       "started_at          datetime64[ns]\n",
       "ended_at            datetime64[ns]\n",
       "start_station_id           float64\n",
       "end_station_id             float64\n",
       "start_lat                  float64\n",
       "start_lng                  float64\n",
       "end_lat                    float64\n",
       "end_lng                    float64\n",
       "dtype: object"
      ]
     },
     "execution_count": 3,
     "metadata": {},
     "output_type": "execute_result"
    }
   ],
   "source": [
    "df = raw_data.drop(['rideable_type', 'start_station_name', 'end_station_name', 'member_casual'], axis=1)\n",
    "df['start_station_id'] = pd.to_numeric(df['start_station_id'], errors='coerce')\n",
    "df['end_station_id'] = pd.to_numeric(df['end_station_id'], errors='coerce')\n",
    "df['ended_at'] = pd.to_datetime(df['ended_at'])\n",
    "df['started_at'] = pd.to_datetime(df['started_at'])\n",
    "\n",
    "df.dtypes"
   ]
  },
  {
   "cell_type": "markdown",
   "metadata": {},
   "source": [
    "# Create In/Out Dataframes"
   ]
  },
  {
   "cell_type": "code",
   "execution_count": 4,
   "metadata": {},
   "outputs": [],
   "source": [
    "in_df = df.drop(['started_at', 'start_station_id', 'start_lat', 'start_lng', 'end_lat', 'end_lng'], axis=1)\n",
    "in_df['time'] = df['ended_at']\n",
    "in_df = in_df[(in_df['time'] >= '2021-06-01 00:00:00') & (in_df['time'] <= '2021-06-30 23:59:59')]\n",
    "in_df['station_id'] = df['end_station_id']\n",
    "in_df = in_df.drop(['ended_at', 'end_station_id'], axis=1)\n",
    "\n",
    "out_df = df.drop(['ended_at', 'end_station_id','start_lat', 'start_lng', 'end_lat', 'end_lng'], axis=1)\n",
    "out_df['time'] = df['started_at']\n",
    "out_df = out_df[(out_df['time'] >= '2021-06-01 00:00:00') & (out_df['time'] <= '2021-06-30 23:59:59')]\n",
    "out_df['station_id'] = df['start_station_id']\n",
    "out_df = out_df.drop(['started_at', 'start_station_id'], axis=1)"
   ]
  },
  {
   "cell_type": "markdown",
   "metadata": {},
   "source": [
    "# Chunk each dataframe by timestep amount"
   ]
  },
  {
   "cell_type": "code",
   "execution_count": 5,
   "metadata": {},
   "outputs": [
    {
     "data": {
      "text/plain": [
       "1440"
      ]
     },
     "execution_count": 5,
     "metadata": {},
     "output_type": "execute_result"
    }
   ],
   "source": [
    "timestep = 30\n",
    "target_len = len(pd.DataFrame({'time': pd.date_range('2021-06-01 00:00:00',\n",
    "                                            '2021-06-30 23:59:59',\n",
    "                                            freq=str(timestep)+'min')}).set_index('time'))\n",
    "target_len"
   ]
  },
  {
   "cell_type": "code",
   "execution_count": 6,
   "metadata": {},
   "outputs": [
    {
     "name": "stdout",
     "output_type": "stream",
     "text": [
      "Out Timeseries length: 1440\n",
      "count    2.121120e+06\n",
      "mean     1.497984e+00\n",
      "std      2.862326e+00\n",
      "min      0.000000e+00\n",
      "25%      0.000000e+00\n",
      "50%      0.000000e+00\n",
      "75%      2.000000e+00\n",
      "max      6.100000e+01\n",
      "dtype: float64\n",
      "None\n",
      "\n",
      "In Timeseries: 1440\n",
      "count    2.124000e+06\n",
      "mean     1.490795e+00\n",
      "std      2.863746e+00\n",
      "min      0.000000e+00\n",
      "25%      0.000000e+00\n",
      "50%      0.000000e+00\n",
      "75%      2.000000e+00\n",
      "max      6.100000e+01\n",
      "dtype: float64\n",
      "None\n"
     ]
    }
   ],
   "source": [
    "out_timeseries = out_df.groupby([pd.Grouper(freq=str(timestep)+'T', key='time'), 'station_id'])\n",
    "out_timeseries = out_timeseries['ride_id'].count().unstack('station_id', fill_value=0)\n",
    "print('Out Timeseries length:', len(out_timeseries))\n",
    "print(print(pd.Series(out_timeseries.values.ravel()).describe()))\n",
    "\n",
    "in_timeseries = in_df.groupby([pd.Grouper(freq=str(timestep)+'T', key='time'), 'station_id'])\n",
    "in_timeseries = in_timeseries['ride_id'].count().unstack('station_id', fill_value=0)\n",
    "print('\\nIn Timeseries:', len(in_timeseries))\n",
    "print(print(pd.Series(in_timeseries.values.ravel()).describe()))"
   ]
  },
  {
   "cell_type": "markdown",
   "metadata": {},
   "source": [
    "# Write each dataframe to CSV"
   ]
  },
  {
   "cell_type": "code",
   "execution_count": 7,
   "metadata": {},
   "outputs": [],
   "source": [
    "out_timeseries.to_csv('../processed_data/outbound.csv')\n",
    "\n",
    "in_timeseries.to_csv('../processed_data/inbound.csv')"
   ]
  },
  {
   "cell_type": "markdown",
   "metadata": {},
   "source": [
    "# Get all Unique Stations and write to CSV"
   ]
  },
  {
   "cell_type": "code",
   "execution_count": 8,
   "metadata": {},
   "outputs": [],
   "source": [
    "inbound_stations = set(in_timeseries.columns)\n",
    "pd.DataFrame({'station_id': list(inbound_stations)}).to_csv('../processed_data/inbound_stations.csv', index=False)\n",
    "\n",
    "outbound_stations = set(out_timeseries.columns)\n",
    "pd.DataFrame({'station_id': list(outbound_stations)}).to_csv('../processed_data/outbound_stations.csv', index=False)\n",
    "\n",
    "inbound_stations.update(outbound_stations)\n",
    "pd.DataFrame({'station_id': list(inbound_stations)}).to_csv('../processed_data/stations.csv', index=False)"
   ]
  }
 ],
 "metadata": {
  "interpreter": {
   "hash": "ff6ecfd5f2ea843e41359741653957982d295db5330b7f75b0cdaebb57a538b2"
  },
  "kernelspec": {
   "display_name": "Python 3.9.7 ('GBDS')",
   "language": "python",
   "name": "python3"
  },
  "language_info": {
   "codemirror_mode": {
    "name": "ipython",
    "version": 3
   },
   "file_extension": ".py",
   "mimetype": "text/x-python",
   "name": "python",
   "nbconvert_exporter": "python",
   "pygments_lexer": "ipython3",
   "version": "3.9.7"
  },
  "orig_nbformat": 4
 },
 "nbformat": 4,
 "nbformat_minor": 2
}
