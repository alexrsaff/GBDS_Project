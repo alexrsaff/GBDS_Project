{
  "nbformat": 4,
  "nbformat_minor": 0,
  "metadata": {
    "colab": {
      "name": "Model.ipynb",
      "provenance": [],
      "collapsed_sections": []
    },
    "kernelspec": {
      "name": "python3",
      "display_name": "Python 3"
    },
    "language_info": {
      "name": "python"
    },
    "accelerator": "GPU"
  },
  "cells": [
    {
      "cell_type": "code",
      "source": [
        "!pip install torch-scatter -f https://pytorch-geometric.com/whl/torch-1.10.0+${CUDA}.html\n",
        "!pip install torch-sparse -f https://pytorch-geometric.com/whl/torch-1.10.0+${CUDA}.html\n",
        "!pip install torch-cluster -f https://pytorch-geometric.com/whl/torch-1.10.0+${CUDA}.html\n",
        "!pip install torch-spline-conv -f https://pytorch-geometric.com/whl/torch-1.10.0+${CUDA}.html\n",
        "!pip install torch-geometric\n",
        "!pip install torch-geometric-temporal"
      ],
      "metadata": {
        "colab": {
          "base_uri": "https://localhost:8080/"
        },
        "id": "XZivi6NQseRr",
        "outputId": "79e76658-c229-44ed-fe32-99d6ec6a5b1c"
      },
      "execution_count": null,
      "outputs": [
        {
          "output_type": "stream",
          "name": "stdout",
          "text": [
            "Looking in links: https://pytorch-geometric.com/whl/torch-1.10.0+.html\n",
            "Collecting torch-scatter\n",
            "  Downloading torch_scatter-2.0.9.tar.gz (21 kB)\n",
            "Building wheels for collected packages: torch-scatter\n",
            "  Building wheel for torch-scatter (setup.py) ... \u001b[?25l\u001b[?25hdone\n",
            "  Created wheel for torch-scatter: filename=torch_scatter-2.0.9-cp37-cp37m-linux_x86_64.whl size=3870620 sha256=f46104ffc4917e65daf0e3d57e59138e1132945caf9ad6650e9578b3117623ed\n",
            "  Stored in directory: /root/.cache/pip/wheels/dd/57/a3/42ea193b77378ce634eb9454c9bc1e3163f3b482a35cdee4d1\n",
            "Successfully built torch-scatter\n",
            "Installing collected packages: torch-scatter\n",
            "Successfully installed torch-scatter-2.0.9\n",
            "Looking in links: https://pytorch-geometric.com/whl/torch-1.10.0+.html\n",
            "Collecting torch-sparse\n",
            "  Downloading torch_sparse-0.6.13.tar.gz (48 kB)\n",
            "\u001b[K     |████████████████████████████████| 48 kB 3.9 MB/s \n",
            "\u001b[?25hRequirement already satisfied: scipy in /usr/local/lib/python3.7/dist-packages (from torch-sparse) (1.4.1)\n",
            "Requirement already satisfied: numpy>=1.13.3 in /usr/local/lib/python3.7/dist-packages (from scipy->torch-sparse) (1.21.6)\n",
            "Building wheels for collected packages: torch-sparse\n",
            "  Building wheel for torch-sparse (setup.py) ... \u001b[?25l\u001b[?25hdone\n",
            "  Created wheel for torch-sparse: filename=torch_sparse-0.6.13-cp37-cp37m-linux_x86_64.whl size=1654975 sha256=28f2fba9006a6552a29ed818da4dbd8271d2482cc87e2004b022287b8f40f1f4\n",
            "  Stored in directory: /root/.cache/pip/wheels/e0/01/be/6b2966e0ff20bb023ae35e5d17903e6e5b4df46dd5892f6be6\n",
            "Successfully built torch-sparse\n",
            "Installing collected packages: torch-sparse\n",
            "Successfully installed torch-sparse-0.6.13\n",
            "Looking in links: https://pytorch-geometric.com/whl/torch-1.10.0+.html\n",
            "Collecting torch-cluster\n",
            "  Downloading torch_cluster-1.6.0.tar.gz (43 kB)\n",
            "\u001b[K     |████████████████████████████████| 43 kB 1.9 MB/s \n",
            "\u001b[?25hBuilding wheels for collected packages: torch-cluster\n",
            "  Building wheel for torch-cluster (setup.py) ... \u001b[?25l\u001b[?25hdone\n",
            "  Created wheel for torch-cluster: filename=torch_cluster-1.6.0-cp37-cp37m-linux_x86_64.whl size=965319 sha256=c48378cc1a60d6fd75f5ab5e7f76f0c81c64964ee087ff181a331e1deae7b3dc\n",
            "  Stored in directory: /root/.cache/pip/wheels/bc/c7/3e/258dd72b35d7a459264143ad5bfe97b9dc5eef90069ca2f13f\n",
            "Successfully built torch-cluster\n",
            "Installing collected packages: torch-cluster\n",
            "Successfully installed torch-cluster-1.6.0\n",
            "Looking in links: https://pytorch-geometric.com/whl/torch-1.10.0+.html\n",
            "Collecting torch-spline-conv\n",
            "  Downloading torch_spline_conv-1.2.1.tar.gz (13 kB)\n",
            "Building wheels for collected packages: torch-spline-conv\n",
            "  Building wheel for torch-spline-conv (setup.py) ... \u001b[?25l\u001b[?25hdone\n",
            "  Created wheel for torch-spline-conv: filename=torch_spline_conv-1.2.1-cp37-cp37m-linux_x86_64.whl size=399736 sha256=dba4baec141803d86d69f527ab3b8d28d96444080bca2aeca7161dfe5d186af4\n",
            "  Stored in directory: /root/.cache/pip/wheels/9c/33/73/780370b7c7bdf2340c0a7b971e915643f14795b4caa7a9a31f\n",
            "Successfully built torch-spline-conv\n",
            "Installing collected packages: torch-spline-conv\n",
            "Successfully installed torch-spline-conv-1.2.1\n",
            "Collecting torch-geometric\n",
            "  Downloading torch_geometric-2.0.4.tar.gz (407 kB)\n",
            "\u001b[K     |████████████████████████████████| 407 kB 7.3 MB/s \n",
            "\u001b[?25hRequirement already satisfied: tqdm in /usr/local/lib/python3.7/dist-packages (from torch-geometric) (4.64.0)\n",
            "Requirement already satisfied: numpy in /usr/local/lib/python3.7/dist-packages (from torch-geometric) (1.21.6)\n",
            "Requirement already satisfied: scipy in /usr/local/lib/python3.7/dist-packages (from torch-geometric) (1.4.1)\n",
            "Requirement already satisfied: pandas in /usr/local/lib/python3.7/dist-packages (from torch-geometric) (1.3.5)\n",
            "Requirement already satisfied: jinja2 in /usr/local/lib/python3.7/dist-packages (from torch-geometric) (2.11.3)\n",
            "Requirement already satisfied: requests in /usr/local/lib/python3.7/dist-packages (from torch-geometric) (2.23.0)\n",
            "Requirement already satisfied: pyparsing in /usr/local/lib/python3.7/dist-packages (from torch-geometric) (3.0.8)\n",
            "Requirement already satisfied: scikit-learn in /usr/local/lib/python3.7/dist-packages (from torch-geometric) (1.0.2)\n",
            "Requirement already satisfied: MarkupSafe>=0.23 in /usr/local/lib/python3.7/dist-packages (from jinja2->torch-geometric) (2.0.1)\n",
            "Requirement already satisfied: python-dateutil>=2.7.3 in /usr/local/lib/python3.7/dist-packages (from pandas->torch-geometric) (2.8.2)\n",
            "Requirement already satisfied: pytz>=2017.3 in /usr/local/lib/python3.7/dist-packages (from pandas->torch-geometric) (2022.1)\n",
            "Requirement already satisfied: six>=1.5 in /usr/local/lib/python3.7/dist-packages (from python-dateutil>=2.7.3->pandas->torch-geometric) (1.15.0)\n",
            "Requirement already satisfied: idna<3,>=2.5 in /usr/local/lib/python3.7/dist-packages (from requests->torch-geometric) (2.10)\n",
            "Requirement already satisfied: certifi>=2017.4.17 in /usr/local/lib/python3.7/dist-packages (from requests->torch-geometric) (2021.10.8)\n",
            "Requirement already satisfied: urllib3!=1.25.0,!=1.25.1,<1.26,>=1.21.1 in /usr/local/lib/python3.7/dist-packages (from requests->torch-geometric) (1.24.3)\n",
            "Requirement already satisfied: chardet<4,>=3.0.2 in /usr/local/lib/python3.7/dist-packages (from requests->torch-geometric) (3.0.4)\n",
            "Requirement already satisfied: joblib>=0.11 in /usr/local/lib/python3.7/dist-packages (from scikit-learn->torch-geometric) (1.1.0)\n",
            "Requirement already satisfied: threadpoolctl>=2.0.0 in /usr/local/lib/python3.7/dist-packages (from scikit-learn->torch-geometric) (3.1.0)\n",
            "Building wheels for collected packages: torch-geometric\n",
            "  Building wheel for torch-geometric (setup.py) ... \u001b[?25l\u001b[?25hdone\n",
            "  Created wheel for torch-geometric: filename=torch_geometric-2.0.4-py3-none-any.whl size=616603 sha256=bde910a8d1897d8291bd0ef6678690c805282bebef046349c434acaf4d5400ce\n",
            "  Stored in directory: /root/.cache/pip/wheels/18/a6/a4/ca18c3051fcead866fe7b85700ee2240d883562a1bc70ce421\n",
            "Successfully built torch-geometric\n",
            "Installing collected packages: torch-geometric\n",
            "Successfully installed torch-geometric-2.0.4\n",
            "Collecting torch-geometric-temporal\n",
            "  Downloading torch_geometric_temporal-0.52.0.tar.gz (48 kB)\n",
            "\u001b[K     |████████████████████████████████| 48 kB 4.2 MB/s \n",
            "\u001b[?25hRequirement already satisfied: decorator==4.4.2 in /usr/local/lib/python3.7/dist-packages (from torch-geometric-temporal) (4.4.2)\n",
            "Requirement already satisfied: torch in /usr/local/lib/python3.7/dist-packages (from torch-geometric-temporal) (1.11.0+cu113)\n",
            "Requirement already satisfied: cython in /usr/local/lib/python3.7/dist-packages (from torch-geometric-temporal) (0.29.28)\n",
            "Requirement already satisfied: pandas<=1.3.5 in /usr/local/lib/python3.7/dist-packages (from torch-geometric-temporal) (1.3.5)\n",
            "Requirement already satisfied: torch_sparse in /usr/local/lib/python3.7/dist-packages (from torch-geometric-temporal) (0.6.13)\n",
            "Requirement already satisfied: torch_scatter in /usr/local/lib/python3.7/dist-packages (from torch-geometric-temporal) (2.0.9)\n",
            "Requirement already satisfied: torch_geometric in /usr/local/lib/python3.7/dist-packages (from torch-geometric-temporal) (2.0.4)\n",
            "Requirement already satisfied: numpy in /usr/local/lib/python3.7/dist-packages (from torch-geometric-temporal) (1.21.6)\n",
            "Requirement already satisfied: scipy in /usr/local/lib/python3.7/dist-packages (from torch-geometric-temporal) (1.4.1)\n",
            "Requirement already satisfied: tqdm in /usr/local/lib/python3.7/dist-packages (from torch-geometric-temporal) (4.64.0)\n",
            "Requirement already satisfied: six in /usr/local/lib/python3.7/dist-packages (from torch-geometric-temporal) (1.15.0)\n",
            "Requirement already satisfied: networkx in /usr/local/lib/python3.7/dist-packages (from torch-geometric-temporal) (2.6.3)\n",
            "Requirement already satisfied: pytz>=2017.3 in /usr/local/lib/python3.7/dist-packages (from pandas<=1.3.5->torch-geometric-temporal) (2022.1)\n",
            "Requirement already satisfied: python-dateutil>=2.7.3 in /usr/local/lib/python3.7/dist-packages (from pandas<=1.3.5->torch-geometric-temporal) (2.8.2)\n",
            "Requirement already satisfied: typing-extensions in /usr/local/lib/python3.7/dist-packages (from torch->torch-geometric-temporal) (4.2.0)\n",
            "Requirement already satisfied: scikit-learn in /usr/local/lib/python3.7/dist-packages (from torch_geometric->torch-geometric-temporal) (1.0.2)\n",
            "Requirement already satisfied: pyparsing in /usr/local/lib/python3.7/dist-packages (from torch_geometric->torch-geometric-temporal) (3.0.8)\n",
            "Requirement already satisfied: jinja2 in /usr/local/lib/python3.7/dist-packages (from torch_geometric->torch-geometric-temporal) (2.11.3)\n",
            "Requirement already satisfied: requests in /usr/local/lib/python3.7/dist-packages (from torch_geometric->torch-geometric-temporal) (2.23.0)\n",
            "Requirement already satisfied: MarkupSafe>=0.23 in /usr/local/lib/python3.7/dist-packages (from jinja2->torch_geometric->torch-geometric-temporal) (2.0.1)\n",
            "Requirement already satisfied: urllib3!=1.25.0,!=1.25.1,<1.26,>=1.21.1 in /usr/local/lib/python3.7/dist-packages (from requests->torch_geometric->torch-geometric-temporal) (1.24.3)\n",
            "Requirement already satisfied: chardet<4,>=3.0.2 in /usr/local/lib/python3.7/dist-packages (from requests->torch_geometric->torch-geometric-temporal) (3.0.4)\n",
            "Requirement already satisfied: idna<3,>=2.5 in /usr/local/lib/python3.7/dist-packages (from requests->torch_geometric->torch-geometric-temporal) (2.10)\n",
            "Requirement already satisfied: certifi>=2017.4.17 in /usr/local/lib/python3.7/dist-packages (from requests->torch_geometric->torch-geometric-temporal) (2021.10.8)\n",
            "Requirement already satisfied: joblib>=0.11 in /usr/local/lib/python3.7/dist-packages (from scikit-learn->torch_geometric->torch-geometric-temporal) (1.1.0)\n",
            "Requirement already satisfied: threadpoolctl>=2.0.0 in /usr/local/lib/python3.7/dist-packages (from scikit-learn->torch_geometric->torch-geometric-temporal) (3.1.0)\n",
            "Building wheels for collected packages: torch-geometric-temporal\n",
            "  Building wheel for torch-geometric-temporal (setup.py) ... \u001b[?25l\u001b[?25hdone\n",
            "  Created wheel for torch-geometric-temporal: filename=torch_geometric_temporal-0.52.0-py3-none-any.whl size=86194 sha256=48475b245ed77e0a7d98c6335840c1849cb5def0d27ad452300f1b88916c83fc\n",
            "  Stored in directory: /root/.cache/pip/wheels/eb/f1/e5/dd02c6d1e5f00f907f5e4894c60c5a21b774db1ed7464d0c23\n",
            "Successfully built torch-geometric-temporal\n",
            "Installing collected packages: torch-geometric-temporal\n",
            "Successfully installed torch-geometric-temporal-0.52.0\n"
          ]
        }
      ]
    },
    {
      "cell_type": "code",
      "source": [
        "from datetime import datetime\n",
        "import geopy.distance\n",
        "import glob\n",
        "import numpy as np\n",
        "import os\n",
        "import pandas as pd\n",
        "import scipy.sparse as sp\n",
        "from sklearn.preprocessing import StandardScaler\n",
        "import torch\n",
        "import torch.nn as nn\n",
        "import torch.nn.functional as F\n",
        "from torch_geometric_temporal.nn import STConv\n",
        "from tqdm import tqdm"
      ],
      "metadata": {
        "id": "A99fFVGaqcbx"
      },
      "execution_count": null,
      "outputs": []
    },
    {
      "cell_type": "code",
      "source": [
        "from google.colab import drive\n",
        "drive.mount('/content/drive', force_remount=True)"
      ],
      "metadata": {
        "id": "RADIbdKjr_px",
        "colab": {
          "base_uri": "https://localhost:8080/"
        },
        "outputId": "fb57c166-8218-4be6-a463-e4a6d19c45c6"
      },
      "execution_count": 6,
      "outputs": [
        {
          "output_type": "stream",
          "name": "stdout",
          "text": [
            "Mounted at /content/drive\n"
          ]
        }
      ]
    },
    {
      "cell_type": "code",
      "source": [
        "class FullyConnLayer(nn.Module):\n",
        "    def __init__(self, c):\n",
        "        super(FullyConnLayer, self).__init__()\n",
        "        self.conv = nn.Conv2d(c, 1, 1)\n",
        "\n",
        "    def forward(self, x):\n",
        "        return self.conv(x)\n",
        "\n",
        "class OutputLayer(nn.Module):\n",
        "    def __init__(self, c, T, n):\n",
        "        super(OutputLayer, self).__init__()\n",
        "        self.tconv1 = nn.Conv2d(c, c, (T, 1), 1, dilation = 1, padding = (0,0))\n",
        "        self.ln = nn.LayerNorm([n, c])\n",
        "        self.tconv2 = nn.Conv2d(c, c, (1, 1), 1, dilation = 1, padding = (0,0))\n",
        "        self.fc = FullyConnLayer(c)\n",
        "\n",
        "    def forward(self, x):\n",
        "        x_t1 = self.tconv1(x)\n",
        "        x_ln = self.ln(x_t1.permute(0, 2, 3, 1)).permute(0, 3, 1, 2)\n",
        "        x_t2 = self.tconv2(x_ln)\n",
        "\n",
        "        return self.fc(x_t2)\n",
        "\n",
        "class TrafficModel(torch.nn.Module):\n",
        "    def __init__(self, device, num_nodes, channel_size_list, num_layers, \n",
        "                 kernel_size, K, window_size, \\\n",
        "                 normalization = 'sym', bias = True):\n",
        "\n",
        "        super(TrafficModel, self).__init__()\n",
        "        self.layers = nn.ModuleList([])\n",
        "        for l in range(num_layers):\n",
        "            input_size, hidden_size, output_size = \\\n",
        "            channel_size_list[l][0], channel_size_list[l][1], \\\n",
        "            channel_size_list[l][2]\n",
        "            self.layers.append(STConv(num_nodes, input_size, hidden_size, \\\n",
        "                                      output_size, kernel_size, K, \\\n",
        "                                      normalization, bias))\n",
        "        self.layers.append(OutputLayer(channel_size_list[-1][-1], \\\n",
        "                                       window_size - 2 * num_layers * (kernel_size - 1), \\\n",
        "                                       num_nodes))\n",
        "        for layer in self.layers:\n",
        "            layer = layer.to(device)\n",
        "\n",
        "    def forward(self, x, edge_index, edge_weight):\n",
        "        for layer in self.layers[:-1]:\n",
        "          x = layer(x, edge_index, edge_weight)\n",
        "        out_layer = self.layers[-1]\n",
        "        x = x.permute(0, 3, 1, 2)\n",
        "        x = out_layer(x)\n",
        "        return x"
      ],
      "metadata": {
        "id": "Dz2ufF9kELA2"
      },
      "execution_count": 7,
      "outputs": []
    },
    {
      "cell_type": "code",
      "source": [
        "channels = np.array([[1, 4, 8], [8, 4, 8]])\n",
        "                                                \n",
        "kernel_size = 3\n",
        "K = 3\n",
        "\n",
        "learning_rate = 0.01\n",
        "batch_size = 10\n",
        "num_epochs = 20\n",
        "num_layers = 1\n",
        "n_his = 20\n",
        "          \n",
        "n_pred = 5\n",
        "          \n",
        "train_prop = 0.7\n",
        "val_prop = 0.2\n",
        "test_prop = 0.1\n",
        "\n",
        "model_save_path = os.path.join(\n",
        "    'drive', 'MyDrive', 'best_model.pt')"
      ],
      "metadata": {
        "id": "onNMzOzBD945"
      },
      "execution_count": 8,
      "outputs": []
    },
    {
      "cell_type": "code",
      "source": [
        "def data_transform(data, n_his, n_pred, device):\n",
        "\n",
        "    num_nodes = data.shape[1]\n",
        "    num_obs = len(data) - n_his - n_pred\n",
        "    x = np.zeros([num_obs, n_his, num_nodes, 1])\n",
        "    y = np.zeros([num_obs, num_nodes])\n",
        "    \n",
        "    obs_idx = 0\n",
        "    for i in range(num_obs):\n",
        "        head = i\n",
        "        tail = i + n_his\n",
        "        x[obs_idx, :, :, :] = data[head: tail].reshape(n_his, num_nodes, 1)\n",
        "        y[obs_idx] = data[tail + n_pred - 1]\n",
        "        obs_idx += 1\n",
        "\n",
        "    return torch.Tensor(x).to(device), torch.Tensor(y).to(device)"
      ],
      "metadata": {
        "id": "WUJjTMjbv-5g"
      },
      "execution_count": 9,
      "outputs": []
    },
    {
      "cell_type": "code",
      "source": [
        "weighted_adj_matrix_path = os.path.join('/content/drive/MyDrive/GBDS_Data/processed_data/distances.csv')\n",
        "W = pd.read_csv(weighted_adj_matrix_path).drop('station_id', axis=1)\n",
        "\n",
        "feature_vectors_path = os.path.join('/content/drive/MyDrive/GBDS_Data/processed_data/combined.csv')\n",
        "V = pd.read_csv(feature_vectors_path).drop('time', axis=1)"
      ],
      "metadata": {
        "id": "4Akv_sm3WYdD"
      },
      "execution_count": 10,
      "outputs": []
    },
    {
      "cell_type": "code",
      "source": [
        "for pos, col in enumerate(W.columns):\n",
        "  if col != V.columns[pos]:\n",
        "    print(col, V.columns[pos])"
      ],
      "metadata": {
        "id": "4XhviIrI44FJ"
      },
      "execution_count": 11,
      "outputs": []
    },
    {
      "cell_type": "code",
      "source": [
        "device = torch.device(\"cuda\") if torch.cuda.is_available() \\\n",
        "else torch.device(\"cpu\")"
      ],
      "metadata": {
        "id": "aUqAaFI8DIK7"
      },
      "execution_count": 12,
      "outputs": []
    },
    {
      "cell_type": "code",
      "source": [
        "num_samples, num_nodes = V.shape\n",
        "\n",
        "len_train = round(num_samples * train_prop)\n",
        "len_val = round(num_samples * val_prop)\n",
        "train = V[ : len_train]\n",
        "val = V[len_train : len_train + len_val]\n",
        "test = V[len_train + len_val : len_train + len_val + round(num_samples * test_prop)]\n",
        "\n",
        "scaler = StandardScaler()\n",
        "train = np.nan_to_num(scaler.fit_transform(train))\n",
        "val = np.nan_to_num(scaler.transform(val))\n",
        "test = np.nan_to_num(scaler.transform(test))\n",
        "\n",
        "x_train, y_train = data_transform(train, n_his, n_pred, device)\n",
        "x_val, y_val = data_transform(val, n_his, n_pred, device)\n",
        "x_test, y_test = data_transform(test, n_his, n_pred, device)\n",
        "\n",
        "train_data = torch.utils.data.TensorDataset(x_train, y_train)\n",
        "train_iter = torch.utils.data.DataLoader(train_data, batch_size, shuffle=True)\n",
        "val_data = torch.utils.data.TensorDataset(x_val, y_val)\n",
        "val_iter = torch.utils.data.DataLoader(val_data, batch_size)\n",
        "test_data = torch.utils.data.TensorDataset(x_test, y_test)\n",
        "test_iter = torch.utils.data.DataLoader(test_data, batch_size)\n",
        "\n",
        "G = sp.coo_matrix(W)\n",
        "edge_index = torch.tensor(np.array([G.row, G.col]), dtype=torch.int64).to(device)\n",
        "edge_weight = torch.tensor(G.data).float().to(device)"
      ],
      "metadata": {
        "id": "NblmTvYLDbq3"
      },
      "execution_count": 13,
      "outputs": []
    },
    {
      "cell_type": "code",
      "source": [
        "model = TrafficModel(device, num_nodes, channels, num_layers, kernel_size, K, \\\n",
        "                     n_his, normalization = 'sym', bias = True).to(device)\n",
        "\n",
        "loss = nn.MSELoss()\n",
        "optimizer = torch.optim.Adam(model.parameters(), lr = learning_rate) "
      ],
      "metadata": {
        "id": "lkdv-q9LSd46"
      },
      "execution_count": 14,
      "outputs": []
    },
    {
      "cell_type": "code",
      "source": [
        "def evaluate_model(model, loss, data_iter, edge_index, edge_weight, device):\n",
        "  model.eval()\n",
        "  l_sum, n = 0.0, 0\n",
        "  with torch.no_grad():\n",
        "      for x, y in data_iter:\n",
        "          y_pred = model(x.to(device), edge_index, edge_weight).view(len(x), -1)\n",
        "          l = loss(y_pred, y)\n",
        "          l_sum += l.item() * y.shape[0]\n",
        "          n += y.shape[0]\n",
        "      return l_sum / n\n",
        "\n",
        "def evaluate_metric(model, data_iter, scaler, edge_index, edge_weight, device):\n",
        "    model.eval()\n",
        "    epsilon = 1e-6\n",
        "    with torch.no_grad():\n",
        "        mae, mape, mse = [], [], []\n",
        "        for x, y in data_iter:\n",
        "            y = scaler.inverse_transform(y.cpu().numpy()).reshape(-1)\n",
        "            y_pred = scaler.inverse_transform(model(x.to(device), \\\n",
        "                                                    edge_index, \\\n",
        "                                                    edge_weight).view(len(x), -1).cpu().numpy()).reshape(-1)\n",
        "            d = np.abs(y - y_pred)\n",
        "            mae += d.tolist()\n",
        "            mape += (d / (y+epsilon)).tolist()\n",
        "            mse += (d ** 2).tolist()\n",
        "        MAE = np.array(mae).mean()\n",
        "        MAPE = np.array(mape).mean()\n",
        "        RMSE = np.sqrt(np.array(mse).mean())\n",
        "        return MAE, MAPE, RMSE"
      ],
      "metadata": {
        "id": "f4Ul3IuwVxze"
      },
      "execution_count": 15,
      "outputs": []
    },
    {
      "cell_type": "code",
      "source": [
        "min_val_loss = np.inf\n",
        "for epoch in tqdm(range(1, num_epochs + 1), desc = 'Epoch', position = 0):\n",
        "  l_sum, n = 0.0, 0\n",
        "\n",
        "  model.train()\n",
        "\n",
        "  for x, y in tqdm(train_iter, desc = 'Batch', position = 0):\n",
        "\n",
        "    y_pred = model(x.to(device), edge_index, edge_weight).view(len(x), -1)\n",
        "    l = loss(y_pred, y)\n",
        "\n",
        "    optimizer.zero_grad()\n",
        "    l.backward()\n",
        "    optimizer.step()\n",
        "\n",
        "    l_sum += l.item() * y.shape[0]\n",
        "    n += y.shape[0]\n",
        "\n",
        "  val_loss = evaluate_model(model, loss, val_iter, edge_index, edge_weight, device)\n",
        "  if val_loss < min_val_loss:\n",
        "      min_val_loss = val_loss\n",
        "      torch.save(model.state_dict(), model_save_path)\n",
        "  print(\"epoch\", epoch, \", train loss:\", l_sum / n, \", validation loss:\", val_loss)"
      ],
      "metadata": {
        "colab": {
          "base_uri": "https://localhost:8080/"
        },
        "id": "gPq8wtlxSvtA",
        "outputId": "5d72b726-c5ea-43fa-f728-6e7512ef520c"
      },
      "execution_count": 16,
      "outputs": [
        {
          "output_type": "stream",
          "name": "stderr",
          "text": [
            "Batch: 100%|██████████| 99/99 [02:04<00:00,  1.25s/it]\n",
            "Epoch:   5%|▌         | 1/20 [02:24<45:43, 144.39s/it]"
          ]
        },
        {
          "output_type": "stream",
          "name": "stdout",
          "text": [
            "epoch 1 , train loss: 0.8476071336504645 , validation loss: 1.5885800464298336\n"
          ]
        },
        {
          "output_type": "stream",
          "name": "stderr",
          "text": [
            "Batch: 100%|██████████| 99/99 [02:03<00:00,  1.25s/it]\n",
            "Epoch:  10%|█         | 2/20 [04:48<43:12, 144.04s/it]"
          ]
        },
        {
          "output_type": "stream",
          "name": "stdout",
          "text": [
            "epoch 2 , train loss: 0.8018855781788016 , validation loss: 1.577380921904125\n"
          ]
        },
        {
          "output_type": "stream",
          "name": "stderr",
          "text": [
            "Batch: 100%|██████████| 99/99 [02:03<00:00,  1.25s/it]\n",
            "Epoch:  15%|█▌        | 3/20 [07:12<40:47, 143.97s/it]"
          ]
        },
        {
          "output_type": "stream",
          "name": "stdout",
          "text": [
            "epoch 3 , train loss: 0.7890582457563763 , validation loss: 1.5609603408624917\n"
          ]
        },
        {
          "output_type": "stream",
          "name": "stderr",
          "text": [
            "Batch: 100%|██████████| 99/99 [02:03<00:00,  1.25s/it]\n",
            "Epoch:  20%|██        | 4/20 [09:35<38:22, 143.90s/it]"
          ]
        },
        {
          "output_type": "stream",
          "name": "stdout",
          "text": [
            "epoch 4 , train loss: 0.784241898135033 , validation loss: 1.5443311930835928\n"
          ]
        },
        {
          "output_type": "stream",
          "name": "stderr",
          "text": [
            "Batch: 100%|██████████| 99/99 [02:03<00:00,  1.25s/it]\n",
            "Epoch:  25%|██▌       | 5/20 [11:59<35:58, 143.88s/it]"
          ]
        },
        {
          "output_type": "stream",
          "name": "stdout",
          "text": [
            "epoch 5 , train loss: 0.7765300209015334 , validation loss: 1.5747990270531222\n"
          ]
        },
        {
          "output_type": "stream",
          "name": "stderr",
          "text": [
            "Batch: 100%|██████████| 99/99 [02:03<00:00,  1.25s/it]\n",
            "Epoch:  30%|███       | 6/20 [14:23<33:34, 143.86s/it]"
          ]
        },
        {
          "output_type": "stream",
          "name": "stdout",
          "text": [
            "epoch 6 , train loss: 0.7719165323224461 , validation loss: 1.571816433065291\n"
          ]
        },
        {
          "output_type": "stream",
          "name": "stderr",
          "text": [
            "Batch: 100%|██████████| 99/99 [02:03<00:00,  1.25s/it]\n",
            "Epoch:  35%|███▌      | 7/20 [16:47<31:10, 143.86s/it]"
          ]
        },
        {
          "output_type": "stream",
          "name": "stdout",
          "text": [
            "epoch 7 , train loss: 0.7666796353680677 , validation loss: 1.5388281102869448\n"
          ]
        },
        {
          "output_type": "stream",
          "name": "stderr",
          "text": [
            "Batch: 100%|██████████| 99/99 [02:03<00:00,  1.25s/it]\n",
            "Epoch:  40%|████      | 8/20 [19:11<28:46, 143.85s/it]"
          ]
        },
        {
          "output_type": "stream",
          "name": "stdout",
          "text": [
            "epoch 8 , train loss: 0.7701734652172392 , validation loss: 1.547397415787548\n"
          ]
        },
        {
          "output_type": "stream",
          "name": "stderr",
          "text": [
            "Batch: 100%|██████████| 99/99 [02:03<00:00,  1.25s/it]\n",
            "Epoch:  45%|████▌     | 9/20 [21:35<26:22, 143.86s/it]"
          ]
        },
        {
          "output_type": "stream",
          "name": "stdout",
          "text": [
            "epoch 9 , train loss: 0.758053418699868 , validation loss: 1.5480058799451748\n"
          ]
        },
        {
          "output_type": "stream",
          "name": "stderr",
          "text": [
            "Batch: 100%|██████████| 99/99 [02:03<00:00,  1.25s/it]\n",
            "Epoch:  50%|█████     | 10/20 [24:01<24:05, 144.52s/it]"
          ]
        },
        {
          "output_type": "stream",
          "name": "stdout",
          "text": [
            "epoch 10 , train loss: 0.7557123823059175 , validation loss: 1.5331156401126558\n"
          ]
        },
        {
          "output_type": "stream",
          "name": "stderr",
          "text": [
            "Batch: 100%|██████████| 99/99 [02:06<00:00,  1.27s/it]\n",
            "Epoch:  55%|█████▌    | 11/20 [26:27<21:44, 144.97s/it]"
          ]
        },
        {
          "output_type": "stream",
          "name": "stdout",
          "text": [
            "epoch 11 , train loss: 0.7478388065239178 , validation loss: 1.5454102316056821\n"
          ]
        },
        {
          "output_type": "stream",
          "name": "stderr",
          "text": [
            "Batch: 100%|██████████| 99/99 [02:04<00:00,  1.26s/it]\n",
            "Epoch:  60%|██████    | 12/20 [28:51<19:18, 144.80s/it]"
          ]
        },
        {
          "output_type": "stream",
          "name": "stdout",
          "text": [
            "epoch 12 , train loss: 0.7473447008753842 , validation loss: 1.5653159261429719\n"
          ]
        },
        {
          "output_type": "stream",
          "name": "stderr",
          "text": [
            "Batch: 100%|██████████| 99/99 [02:03<00:00,  1.25s/it]\n",
            "Epoch:  65%|██████▌   | 13/20 [31:15<16:51, 144.52s/it]"
          ]
        },
        {
          "output_type": "stream",
          "name": "stdout",
          "text": [
            "epoch 13 , train loss: 0.7415103189578983 , validation loss: 1.5391684109947075\n"
          ]
        },
        {
          "output_type": "stream",
          "name": "stderr",
          "text": [
            "Batch: 100%|██████████| 99/99 [02:03<00:00,  1.25s/it]\n",
            "Epoch:  70%|███████   | 14/20 [33:39<14:25, 144.33s/it]"
          ]
        },
        {
          "output_type": "stream",
          "name": "stdout",
          "text": [
            "epoch 14 , train loss: 0.7415629886659213 , validation loss: 1.5411196797519582\n"
          ]
        },
        {
          "output_type": "stream",
          "name": "stderr",
          "text": [
            "Batch: 100%|██████████| 99/99 [02:03<00:00,  1.25s/it]\n",
            "Epoch:  75%|███████▌  | 15/20 [36:03<12:00, 144.19s/it]"
          ]
        },
        {
          "output_type": "stream",
          "name": "stdout",
          "text": [
            "epoch 15 , train loss: 0.7358926544354382 , validation loss: 1.5411143243992738\n"
          ]
        },
        {
          "output_type": "stream",
          "name": "stderr",
          "text": [
            "Batch: 100%|██████████| 99/99 [02:03<00:00,  1.25s/it]\n",
            "Epoch:  80%|████████  | 16/20 [38:26<09:36, 144.08s/it]"
          ]
        },
        {
          "output_type": "stream",
          "name": "stdout",
          "text": [
            "epoch 16 , train loss: 0.7351095141011119 , validation loss: 1.538014349602021\n"
          ]
        },
        {
          "output_type": "stream",
          "name": "stderr",
          "text": [
            "Batch: 100%|██████████| 99/99 [02:03<00:00,  1.25s/it]\n",
            "Epoch:  85%|████████▌ | 17/20 [40:50<07:12, 144.02s/it]"
          ]
        },
        {
          "output_type": "stream",
          "name": "stdout",
          "text": [
            "epoch 17 , train loss: 0.7309591537332001 , validation loss: 1.5580147682713918\n"
          ]
        },
        {
          "output_type": "stream",
          "name": "stderr",
          "text": [
            "Batch: 100%|██████████| 99/99 [02:03<00:00,  1.25s/it]\n",
            "Epoch:  90%|█████████ | 18/20 [43:14<04:47, 143.95s/it]"
          ]
        },
        {
          "output_type": "stream",
          "name": "stdout",
          "text": [
            "epoch 18 , train loss: 0.7292169927338011 , validation loss: 1.5647044559168726\n"
          ]
        },
        {
          "output_type": "stream",
          "name": "stderr",
          "text": [
            "Batch: 100%|██████████| 99/99 [02:03<00:00,  1.25s/it]\n",
            "Epoch:  95%|█████████▌| 19/20 [45:38<02:23, 143.92s/it]"
          ]
        },
        {
          "output_type": "stream",
          "name": "stdout",
          "text": [
            "epoch 19 , train loss: 0.7270173810627065 , validation loss: 1.5382256361694844\n"
          ]
        },
        {
          "output_type": "stream",
          "name": "stderr",
          "text": [
            "Batch: 100%|██████████| 99/99 [02:03<00:00,  1.25s/it]\n",
            "Epoch: 100%|██████████| 20/20 [48:02<00:00, 144.12s/it]"
          ]
        },
        {
          "output_type": "stream",
          "name": "stdout",
          "text": [
            "epoch 20 , train loss: 0.725472351905652 , validation loss: 1.5460941869723026\n"
          ]
        },
        {
          "output_type": "stream",
          "name": "stderr",
          "text": [
            "\n"
          ]
        }
      ]
    },
    {
      "cell_type": "code",
      "source": [
        "best_model = TrafficModel(device, num_nodes, channels, num_layers, kernel_size, K, \\\n",
        "                     n_his, normalization = 'sym', bias = True).to(device)\n",
        "best_model.load_state_dict(torch.load(model_save_path))\n",
        "\n",
        "l = evaluate_model(best_model, loss, test_iter, edge_index, edge_weight, device)\n",
        "MAE, MAPE, RMSE = evaluate_metric(best_model, test_iter, scaler, edge_index, edge_weight, device)\n",
        "print(\"test loss:\", l, \"\\nMAE:\", MAE, \", MAPE:\", MAPE, \", RMSE:\", RMSE)"
      ],
      "metadata": {
        "colab": {
          "base_uri": "https://localhost:8080/"
        },
        "id": "gHo-zEsJYVOk",
        "outputId": "878d2a78-cb64-4f3a-ed4c-d2cf798e8c16"
      },
      "execution_count": 17,
      "outputs": [
        {
          "output_type": "stream",
          "name": "stdout",
          "text": [
            "test loss: 1.770578714979797 \n",
            "MAE: 1.8402484355001114 , MAPE: 434394.4800950068 , RMSE: 3.0884448658697674\n"
          ]
        }
      ]
    },
    {
      "cell_type": "code",
      "source": [
        "predict_model = best_model\n",
        "\n",
        "pred_save_path = os.path.join(\n",
        "    'drive', 'MyDrive',  'predictions_testing.csv')"
      ],
      "metadata": {
        "id": "N4SC7CK8aTtO"
      },
      "execution_count": 18,
      "outputs": []
    },
    {
      "cell_type": "code",
      "source": [
        "def get_predictions(model, pred_iter, scaler, edge_index, edge_weight, num_nodes, device):\n",
        "    model.eval()\n",
        "    with torch.no_grad():\n",
        "      for x, y in pred_iter:\n",
        "        y = scaler.inverse_transform(y.cpu().numpy()).reshape(-1)\n",
        "        y_pred = scaler.inverse_transform(model(x.to(device), \\\n",
        "                                                edge_index, \\\n",
        "                                                edge_weight).view(len(x), -1).cpu().numpy()).reshape(-1)\n",
        "        y_pred = y_pred.reshape(-1, num_nodes)\n",
        "      \n",
        "      return y, y_pred"
      ],
      "metadata": {
        "id": "CmnnzUV3ZRqC"
      },
      "execution_count": 19,
      "outputs": []
    },
    {
      "cell_type": "code",
      "source": [
        "pred_len = 144\n",
        "\n",
        "pred_set = V[(-pred_len - n_his - n_pred):]\n",
        "pred_set = np.nan_to_num(scaler.transform(pred_set))\n",
        "x_pred, y_pred = data_transform(pred_set, n_his, n_pred, device)\n",
        "pred_data = torch.utils.data.TensorDataset(x_pred, y_pred)\n",
        "pred_iter = torch.utils.data.DataLoader(pred_data, pred_len + n_his + n_pred + 1)\n",
        "\n",
        "predictions = get_predictions(predict_model, pred_iter, scaler, edge_index, edge_weight, 1475, device)\n",
        "np.savetxt(pred_save_path, predictions[1], delimiter=',')"
      ],
      "metadata": {
        "id": "Vz5RLLkYZhP0"
      },
      "execution_count": 56,
      "outputs": []
    },
    {
      "cell_type": "code",
      "source": [
        "import seaborn as sns\n",
        "import matplotlib.pyplot as plt\n",
        "plt.rcParams[\"figure.figsize\"] = (15,10)"
      ],
      "metadata": {
        "id": "imlvNe4wmsuD"
      },
      "execution_count": 66,
      "outputs": []
    },
    {
      "cell_type": "code",
      "source": [
        "test_preds = pd.read_csv(pred_save_path, header=None)\n",
        "test_truth = V[(-pred_len-2):-2]\n",
        "summed_test_truth  = test_truth.mean(axis=1)\n",
        "summed_test_preds = test_preds.mean(axis=1)\n",
        "sns.lineplot(y=summed_test_truth, x=range(len(summed_test_preds)))\n",
        "sns.lineplot(y=summed_test_preds, x=range(len(summed_test_preds)))\n",
        "plt.legend(labels=['Ground Truth', 'Prediction']);"
      ],
      "metadata": {
        "colab": {
          "base_uri": "https://localhost:8080/",
          "height": 592
        },
        "id": "ovqpIqHgrGRw",
        "outputId": "5ced5b2d-b0eb-4619-feb1-dfb86fe842cb"
      },
      "execution_count": 92,
      "outputs": [
        {
          "output_type": "display_data",
          "data": {
            "text/plain": [
              "<Figure size 1080x720 with 1 Axes>"
            ],
            "image/png": "[encoded data removed]"
          },
          "metadata": {
            "needs_background": "light"
          }
        }
      ]
    },
    {
      "cell_type": "code",
      "source": [
        "test_preds = pd.read_csv(pred_save_path, header=None)\n",
        "test_truth = V[(-pred_len-2):-2]\n",
        "summed_test_truth  = test_truth.mean(axis=1)\n",
        "summed_test_preds = test_preds.mean(axis=1)\n",
        "sns.histplot(summed_test_truth)\n",
        "sns.histplot(summed_test_preds, color=sns.color_palette()[1])\n",
        "plt.legend(labels=['Ground Truth', 'Prediction']);"
      ],
      "metadata": {
        "colab": {
          "base_uri": "https://localhost:8080/",
          "height": 592
        },
        "id": "TiFHgFO_mkiA",
        "outputId": "96767978-dee5-4412-fa7b-d9558c370b07"
      },
      "execution_count": 94,
      "outputs": [
        {
          "output_type": "display_data",
          "data": {
            "text/plain": [
              "<Figure size 1080x720 with 1 Axes>"
            ],
            "image/png": "[encoded data removed]"
          },
          "metadata": {
            "needs_background": "light"
          }
        }
      ]
    },
    {
      "cell_type": "code",
      "source": [
        "test_preds = pd.read_csv(pred_save_path, header=None)\n",
        "test_truth = V[(-pred_len-2):-2]\n",
        "summed_test_truth  = test_truth.mean(axis=0)\n",
        "summed_test_preds = test_preds.mean(axis=0)\n",
        "sns.histplot(summed_test_truth)\n",
        "sns.histplot(summed_test_preds, color=sns.color_palette()[1])\n",
        "plt.legend(labels=['Ground Truth', 'Prediction']);"
      ],
      "metadata": {
        "colab": {
          "base_uri": "https://localhost:8080/",
          "height": 592
        },
        "id": "II2FcTOhxAH-",
        "outputId": "fcbdf7bb-0c24-48ff-ff23-882c4ee31499"
      },
      "execution_count": 95,
      "outputs": [
        {
          "output_type": "display_data",
          "data": {
            "text/plain": [
              "<Figure size 1080x720 with 1 Axes>"
            ],
            "image/png": "[encoded data removed]"
          },
          "metadata": {
            "needs_background": "light"
          }
        }
      ]
    }
  ]
}